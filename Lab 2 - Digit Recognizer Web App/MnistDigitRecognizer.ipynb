{
 "cells": [
  {
   "cell_type": "markdown",
   "metadata": {},
   "source": [
    "# MNIST Digit Recognizer Lab\n",
    "From [Deep Learning web app](https://medium.com/@rhome/deep-learning-web-app-63904aea7a4e) Medium Tutorial"
   ]
  },
  {
   "cell_type": "markdown",
   "metadata": {},
   "source": [
    "## Loading the mnist dataset"
   ]
  },
  {
   "cell_type": "code",
   "execution_count": 39,
   "metadata": {},
   "outputs": [
    {
     "name": "stdout",
     "output_type": "stream",
     "text": [
      "Loading mnist dataset...\n",
      "Data loaded. X_train shape: (60000, 28, 28, 1)\n",
      "60000 train samples\n",
      "10000 test samples\n",
      "Done.\n",
      "Data loaded. X_train shape: (60000, 28, 28, 1)\n",
      "60000 train samples\n",
      "10000 test samples\n",
      "Done.\n"
     ]
    }
   ],
   "source": [
    "import numpy as np\n",
    "import tensorflow as tf\n",
    "\n",
    "print(\"Loading mnist dataset...\")\n",
    "(X_train, y_train), (X_test, y_test) = tf.keras.datasets.mnist.load_data()\n",
    "X_train, X_test = X_train / 255.0, X_test / 255.\n",
    "# add a channels dimension\n",
    "X_train = X_train[..., tf.newaxis]\n",
    "X_test = X_test[..., tf.newaxis]\n",
    "print('Data loaded. X_train shape:', X_train.shape)\n",
    "print(X_train.shape[0], 'train samples')\n",
    "print(X_test.shape[0], 'test samples')\n",
    "print(\"Done.\")\n",
    "print('Data loaded. X_train shape:', X_train.shape)\n",
    "print(X_train.shape[0], 'train samples')\n",
    "print(X_test.shape[0], 'test samples')\n",
    "print(\"Done.\")"
   ]
  },
  {
   "cell_type": "code",
   "execution_count": null,
   "metadata": {},
   "outputs": [],
   "source": []
  },
  {
   "cell_type": "markdown",
   "metadata": {},
   "source": [
    "## Showing dataset sample"
   ]
  },
  {
   "cell_type": "code",
   "execution_count": 40,
   "metadata": {},
   "outputs": [
    {
     "data": {
      "image/png": "[encoded data removed]",
      "text/plain": [
       "<Figure size 576x576 with 16 Axes>"
      ]
     },
     "metadata": {
      "needs_background": "light"
     },
     "output_type": "display_data"
    }
   ],
   "source": [
    "from matplotlib import pyplot as plt\n",
    "\n",
    "# Showing dataset sample\n",
    "\n",
    "w = 10\n",
    "h = 10\n",
    "fig=plt.figure(figsize=(8, 8))\n",
    "columns = 4\n",
    "rows = 4\n",
    "for i in range(0, columns*rows):\n",
    "    img = X_train[i]\n",
    "    ax = fig.add_subplot(rows, columns, i+1)\n",
    "    ax.title.set_text('label:' + str(y_train[i]))\n",
    "    plt.imshow(img)\n",
    "plt.tight_layout()\n",
    "plt.show()"
   ]
  },
  {
   "cell_type": "code",
   "execution_count": null,
   "metadata": {},
   "outputs": [],
   "source": []
  },
  {
   "cell_type": "markdown",
   "metadata": {},
   "source": [
    "## Creating model"
   ]
  },
  {
   "cell_type": "code",
   "execution_count": 41,
   "metadata": {},
   "outputs": [
    {
     "name": "stdout",
     "output_type": "stream",
     "text": [
      "Model: \"sequential_3\"\n",
      "_________________________________________________________________\n",
      "Layer (type)                 Output Shape              Param #   \n",
      "=================================================================\n",
      "conv2d_6 (Conv2D)            (None, 26, 26, 32)        320       \n",
      "_________________________________________________________________\n",
      "conv2d_7 (Conv2D)            (None, 24, 24, 64)        18496     \n",
      "_________________________________________________________________\n",
      "max_pooling2d_3 (MaxPooling2 (None, 12, 12, 64)        0         \n",
      "_________________________________________________________________\n",
      "dropout_6 (Dropout)          (None, 12, 12, 64)        0         \n",
      "_________________________________________________________________\n",
      "flatten_3 (Flatten)          (None, 9216)              0         \n",
      "_________________________________________________________________\n",
      "dense_6 (Dense)              (None, 128)               1179776   \n",
      "_________________________________________________________________\n",
      "dropout_7 (Dropout)          (None, 128)               0         \n",
      "_________________________________________________________________\n",
      "dense_7 (Dense)              (None, 10)                1290      \n",
      "=================================================================\n",
      "Total params: 1,199,882\n",
      "Trainable params: 1,199,882\n",
      "Non-trainable params: 0\n",
      "_________________________________________________________________\n"
     ]
    }
   ],
   "source": [
    "import os\n",
    "from tensorflow.keras.models import Sequential\n",
    "from tensorflow.keras.layers import Dense, Dropout, Flatten, Conv2D, MaxPooling2D\n",
    "from datetime import datetime\n",
    "\n",
    "# convert class vectors to binary class matrices\n",
    "num_classes = 10\n",
    "y_train = tf.keras.utils.to_categorical(y_train, num_classes)\n",
    "y_test = tf.keras.utils.to_categorical(y_test, num_classes)\n",
    "\n",
    "# create model\n",
    "model = Sequential()\n",
    "model.add(Conv2D(32, kernel_size=(3, 3), activation='relu', input_shape=(28, 28, 1)))\n",
    "model.add(Conv2D(64, (3, 3), activation='relu'))\n",
    "model.add(MaxPooling2D(pool_size=(2, 2)))\n",
    "model.add(Dropout(0.25))\n",
    "model.add(Flatten())\n",
    "model.add(Dense(128, activation='relu'))\n",
    "model.add(Dropout(0.5))\n",
    "model.add(Dense(num_classes, activation='softmax'))\n",
    "\n",
    "model.summary()"
   ]
  },
  {
   "cell_type": "code",
   "execution_count": null,
   "metadata": {},
   "outputs": [],
   "source": []
  },
  {
   "cell_type": "markdown",
   "metadata": {},
   "source": [
    "## Choosing loss function, an optimizer, and training the model"
   ]
  },
  {
   "cell_type": "code",
   "execution_count": 42,
   "metadata": {},
   "outputs": [
    {
     "name": "stdout",
     "output_type": "stream",
     "text": [
      "Start training model...\n",
      "Epoch 1/2\n",
      "118/118 [==============================] - 55s 463ms/step - loss: 0.3995 - accuracy: 0.8783 - val_loss: 0.0808 - val_accuracy: 0.9746\n",
      "Epoch 2/2\n",
      "118/118 [==============================] - 57s 482ms/step - loss: 0.1134 - accuracy: 0.9671 - val_loss: 0.0497 - val_accuracy: 0.9842\n",
      "Model trained. Evaluating on test set...\n",
      "Test loss: 0.04965515434741974\n",
      "Test accuracy: 0.9842000007629395\n"
     ]
    }
   ],
   "source": [
    "# choose a loss function and an optimizer\n",
    "model.compile(loss=tf.keras.losses.categorical_crossentropy,\n",
    "              optimizer=tf.keras.optimizers.Adam(),\n",
    "              metrics=['accuracy'])\n",
    "\n",
    "# (optional) configure tensorboard to collect training stats\n",
    "log_dir = \"C:\\\\temp\\\\tensorboard\\\\{}\".format(datetime.now().strftime(\"%Y%m%d-%H%M%S\"))\n",
    "os.mkdir(log_dir)\n",
    "tensorboardCallback = tf.keras.callbacks.TensorBoard(log_dir=log_dir)\n",
    "\n",
    "# start training\n",
    "print(\"Start training model...\")\n",
    "model.fit(X_train, y_train,\n",
    "          batch_size=512,\n",
    "          epochs=2,\n",
    "          verbose=1,\n",
    "          validation_data=(X_test, y_test),\n",
    "          callbacks=[tensorboardCallback])\n",
    "\n",
    "# evaluate the trained model\n",
    "print(\"Model trained. Evaluating on test set...\")\n",
    "score = model.evaluate(X_test, y_test, verbose=0)\n",
    "print('Test loss:', score[0])\n",
    "print('Test accuracy:', score[1])"
   ]
  },
  {
   "cell_type": "code",
   "execution_count": null,
   "metadata": {},
   "outputs": [],
   "source": []
  },
  {
   "cell_type": "markdown",
   "metadata": {},
   "source": [
    "## Save model"
   ]
  },
  {
   "cell_type": "code",
   "execution_count": 43,
   "metadata": {},
   "outputs": [],
   "source": [
    "model.save(\"my_model.h5\")"
   ]
  },
  {
   "cell_type": "code",
   "execution_count": null,
   "metadata": {},
   "outputs": [],
   "source": []
  },
  {
   "cell_type": "markdown",
   "metadata": {},
   "source": [
    "## Model Deployment"
   ]
  },
  {
   "cell_type": "code",
   "execution_count": null,
   "metadata": {},
   "outputs": [
    {
     "name": "stdout",
     "output_type": "stream",
     "text": [
      "Loading model...\n",
      "Model loaded. Starting server...\n",
      " * Serving Flask app \"__main__\" (lazy loading)\n",
      " * Environment: production\n",
      "   WARNING: Do not use the development server in a production environment.\n",
      "   Use a production WSGI server instead.\n",
      " * Debug mode: off\n"
     ]
    },
    {
     "name": "stderr",
     "output_type": "stream",
     "text": [
      " * Running on http://127.0.0.1:5000/ (Press CTRL+C to quit)\n",
      "127.0.0.1 - - [16/Feb/2021 21:33:14] \"\u001b[37mGET / HTTP/1.1\u001b[0m\" 200 -\n",
      "127.0.0.1 - - [16/Feb/2021 21:33:14] \"\u001b[37mGET /swaggerui/droid-sans.css HTTP/1.1\u001b[0m\" 200 -\n",
      "127.0.0.1 - - [16/Feb/2021 21:33:14] \"\u001b[37mGET /swaggerui/swagger-ui.css HTTP/1.1\u001b[0m\" 200 -\n",
      "127.0.0.1 - - [16/Feb/2021 21:33:14] \"\u001b[37mGET /swaggerui/swagger-ui-standalone-preset.js HTTP/1.1\u001b[0m\" 200 -\n",
      "127.0.0.1 - - [16/Feb/2021 21:33:14] \"\u001b[37mGET /swaggerui/swagger-ui-bundle.js HTTP/1.1\u001b[0m\" 200 -\n",
      "127.0.0.1 - - [16/Feb/2021 21:33:14] \"\u001b[37mGET /swagger.json HTTP/1.1\u001b[0m\" 200 -\n",
      "127.0.0.1 - - [16/Feb/2021 21:33:14] \"\u001b[37mGET /swaggerui/favicon-32x32.png HTTP/1.1\u001b[0m\" 200 -\n"
     ]
    }
   ],
   "source": [
    "import flask\n",
    "from flask_cors import CORS\n",
    "from werkzeug.utils import cached_property #**must come be imported flask_restplus**\n",
    "from flask_restplus import Api, Resource, fields\n",
    "import tensorflow as tf\n",
    "from skimage.transform import resize\n",
    "import numpy as np\n",
    "\n",
    "# disable GPU usage for inference\n",
    "import os\n",
    "os.environ[\"CUDA_VISIBLE_DEVICES\"] = \"-1\"\n",
    "\n",
    "app = flask.Flask(__name__)\n",
    "CORS(app)\n",
    "app.config[\"DEBUG\"] = False\n",
    "api = Api(app,\n",
    "          version='1.0',\n",
    "          title='Digits Recognition API',\n",
    "          description='An API to recognize hand written digits.'\n",
    ")\n",
    "ns = api.namespace('api/v1/digits', description='Digit recognition operations')\n",
    "\n",
    "# create API schema\n",
    "preditionRequest = api.model('PreditionRequest', {\n",
    "    'image': fields.List(fields.Integer, required=True, description='1D flattened array of grey-scaled pixel values, between 0 and 255'),\n",
    "    'imageWidth': fields.Integer(required=True, description='image width, in pixels'),\n",
    "    'imageHeigth': fields.Integer(required=True, description='image heigth, in pixels')\n",
    "})\n",
    "preditionResponse = api.model('PreditionResponse', {\n",
    "    'success': fields.Boolean,\n",
    "    'digit': fields.Integer(description='the predicted digit, between 0 and 9'),\n",
    "    'probas': fields.List(fields.Float, description='array of probabilities for each digit, between 0 and 1')\n",
    "})\n",
    "\n",
    "# load trained model\n",
    "print(\"Loading model...\")\n",
    "# model = tf.keras.models.load_model(\"C:\\TEMP\\mnist_model.h5\")\n",
    "model = tf.keras.models.load_model(\"my_model.h5\")\n",
    "print(\"Model loaded. Starting server...\")\n",
    "\n",
    "@ns.route('/health-check', methods=['GET'])\n",
    "class HealthCheck(Resource):\n",
    "    def get(self):\n",
    "        # return default HTTP code 200\n",
    "        return\n",
    "\n",
    "@ns.route('/predict', methods=['POST'])\n",
    "class DigitRecognizer(Resource):\n",
    "\n",
    "    @ns.expect(preditionRequest)\n",
    "    @ns.marshal_with(preditionResponse, code=201)\n",
    "    def post(self):\n",
    "        try:\n",
    "            print(\"**************** NEW REQUEST RECEIVED ****************\")\n",
    "            req = api.payload\n",
    "            image = np.reshape(np.array(req['image']), (128, 128))\n",
    "            image = resize(image, (28, 28), anti_aliasing=True, preserve_range=True)\n",
    "            image = image / 255.0\n",
    "            image = np.reshape(image, (1, 28, 28, 1))\n",
    "            print('Running predictions on image with size', image.shape)\n",
    "            probabilities = model.predict(image)\n",
    "            digit = np.argmax(probabilities)\n",
    "            result = {'success': True, 'digit': int(digit), 'probas': probabilities[0].tolist()}\n",
    "        except Exception as e:\n",
    "            result = {'status': False, 'error': str(e)}\n",
    "        print('>>> result:', result)\n",
    "        return result, 201\n",
    "\n",
    "\n",
    "if __name__ == '__main__':\n",
    "    app.run()"
   ]
  },
  {
   "cell_type": "code",
   "execution_count": null,
   "metadata": {},
   "outputs": [],
   "source": []
  },
  {
   "cell_type": "markdown",
   "metadata": {},
   "source": [
    "### Notes\n",
    "- Error: I had to install `fask-cors`\n",
    "```\n",
    "pip3 install -U flask-cors\n",
    "```\n",
    "- Error: I had to install `flask_restplus`\n",
    "```\n",
    "pip3 install flask-restplus\n",
    "```\n",
    "- Error: `cannot import name 'cached_property' from 'werkzeug'`\n",
    "    - Fixed by importing `cached_property` **before** `flask_restplus` like below\n",
    "    ```\n",
    "    from werkzeug.utils import cached_property \n",
    "    from flask_restplus import Api, Resource, fields\n",
    "    ``` \n",
    "- Error: No module named 'skimage'\n",
    "```\n",
    "pip3 install scikit-image\n",
    "```\n",
    "- Error: OSError: SavedModel file does not exist at: C:\\TEMP\\mnist_model.h5/{saved_model.pbtxt|saved_model.pb}\n"
   ]
  },
  {
   "cell_type": "code",
   "execution_count": null,
   "metadata": {},
   "outputs": [],
   "source": []
  }
 ],
 "metadata": {
  "kernelspec": {
   "display_name": "Python 3",
   "language": "python",
   "name": "python3"
  }
 },
 "nbformat": 4,
 "nbformat_minor": 4
}
