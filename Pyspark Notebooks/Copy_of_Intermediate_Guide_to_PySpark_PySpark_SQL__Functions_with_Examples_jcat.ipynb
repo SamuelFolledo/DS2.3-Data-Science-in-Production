{
  "nbformat": 4,
  "nbformat_minor": 0,
  "metadata": {
    "colab": {
      "name": "Copy of Intermediate_Guide_to_PySpark-PySpark_SQL_ Functions_with_Examples_jcat.ipynb",
      "provenance": [],
      "collapsed_sections": []
    },
    "kernelspec": {
      "name": "python3",
      "display_name": "Python 3"
    },
    "accelerator": "GPU"
  },
  "cells": [
    {
      "cell_type": "markdown",
      "metadata": {
        "id": "Zb8Wv_7_nGni"
      },
      "source": [
        "# <font color='tomato'>Intermediate Guide to PySpark - PySpark SQL Functions with Examples</font>"
      ]
    },
    {
      "cell_type": "markdown",
      "metadata": {
        "id": "0oETwpjbnP8T"
      },
      "source": [
        "## Installation\n",
        "\n",
        "To run spark in Colab, we need to first install all the dependencies in Colab environment i.e. \n",
        "* **PySpark 3.0.1**\n",
        "* **pyy4j 0.10.09**\n",
        "\n",
        "Follow the steps to install the dependencies:"
      ]
    },
    {
      "cell_type": "code",
      "metadata": {
        "id": "6iu_Mhl6m-U1",
        "colab": {
          "base_uri": "https://localhost:8080/"
        },
        "outputId": "6d2dbe53-4866-47db-f670-83af7180b3ea"
      },
      "source": [
        "!pip install pyspark==3.0.1 py4j==0.10.9 "
      ],
      "execution_count": null,
      "outputs": [
        {
          "output_type": "stream",
          "text": [
            "Collecting pyspark==3.0.1\n",
            "\u001b[?25l  Downloading https://files.pythonhosted.org/packages/f0/26/198fc8c0b98580f617cb03cb298c6056587b8f0447e20fa40c5b634ced77/pyspark-3.0.1.tar.gz (204.2MB)\n",
            "\u001b[K     |████████████████████████████████| 204.2MB 78kB/s \n",
            "\u001b[?25hCollecting py4j==0.10.9\n",
            "\u001b[?25l  Downloading https://files.pythonhosted.org/packages/9e/b6/6a4fb90cd235dc8e265a6a2067f2a2c99f0d91787f06aca4bcf7c23f3f80/py4j-0.10.9-py2.py3-none-any.whl (198kB)\n",
            "\u001b[K     |████████████████████████████████| 204kB 24.2MB/s \n",
            "\u001b[?25hBuilding wheels for collected packages: pyspark\n",
            "  Building wheel for pyspark (setup.py) ... \u001b[?25l\u001b[?25hdone\n",
            "  Created wheel for pyspark: filename=pyspark-3.0.1-py2.py3-none-any.whl size=204612242 sha256=9719bb758d1d81daaa7963650e2030650873eeb3dd55a396bf38df4c38b26daf\n",
            "  Stored in directory: /root/.cache/pip/wheels/5e/bd/07/031766ca628adec8435bb40f0bd83bb676ce65ff4007f8e73f\n",
            "Successfully built pyspark\n",
            "Installing collected packages: py4j, pyspark\n",
            "Successfully installed py4j-0.10.9 pyspark-3.0.1\n"
          ],
          "name": "stdout"
        }
      ]
    },
    {
      "cell_type": "markdown",
      "metadata": {
        "id": "_Y77qU2uqC-B"
      },
      "source": [
        "Check your installation by creatinf a spark session."
      ]
    },
    {
      "cell_type": "code",
      "metadata": {
        "id": "nZXXfyQ_oFfx"
      },
      "source": [
        "from pyspark.sql import SparkSession\n",
        "\n",
        "spark = SparkSession.builder\\\n",
        "        .master(\"local[*]\")\\\n",
        "        .appName('PySpark_Tutorial')\\\n",
        "        .getOrCreate()"
      ],
      "execution_count": null,
      "outputs": []
    },
    {
      "cell_type": "markdown",
      "metadata": {
        "id": "yqDy5sW3qRfJ"
      },
      "source": [
        "## Reading Data"
      ]
    },
    {
      "cell_type": "markdown",
      "metadata": {
        "id": "M8Y4xl9ktpqi"
      },
      "source": [
        "### Download Kaggle Movie Dataset\n",
        "\n",
        "Use the Kaggle API Token(kaggle.json) to download the Movie Dataset"
      ]
    },
    {
      "cell_type": "code",
      "metadata": {
        "id": "LEQ2dFuUtuGv",
        "colab": {
          "resources": {
            "http://localhost:8080/nbextensions/google.colab/files.js": {
              "data": "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",
              "ok": true,
              "headers": [
                [
                  "content-type",
                  "application/javascript"
                ]
              ],
              "status": 200,
              "status_text": ""
            }
          },
          "base_uri": "https://localhost:8080/",
          "height": 72
        },
        "outputId": "42c3aad2-87fb-44e3-c40c-20996f0508f4"
      },
      "source": [
        "from google.colab import files\n",
        "\n",
        "## Upload your kaggle json file (API Token)\n",
        "files.upload()\n",
        "\n",
        "# !mkdir ~/.kaggle\n",
        "\n",
        "!cp kaggle.json ~/.kaggle/\n",
        "\n",
        "!chmod 600 ~/.kaggle/kaggle.json"
      ],
      "execution_count": null,
      "outputs": [
        {
          "output_type": "display_data",
          "data": {
            "text/html": [
              "\n",
              "     <input type=\"file\" id=\"files-8d5ba7a1-0cf1-4921-961f-33ecb90e5fb9\" name=\"files[]\" multiple disabled\n",
              "        style=\"border:none\" />\n",
              "     <output id=\"result-8d5ba7a1-0cf1-4921-961f-33ecb90e5fb9\">\n",
              "      Upload widget is only available when the cell has been executed in the\n",
              "      current browser session. Please rerun this cell to enable.\n",
              "      </output>\n",
              "      <script src=\"/nbextensions/google.colab/files.js\"></script> "
            ],
            "text/plain": [
              "<IPython.core.display.HTML object>"
            ]
          },
          "metadata": {
            "tags": []
          }
        },
        {
          "output_type": "stream",
          "text": [
            "Saving kaggle.json to kaggle.json\n"
          ],
          "name": "stdout"
        }
      ]
    },
    {
      "cell_type": "code",
      "metadata": {
        "id": "vQ1dWtvtp8ve",
        "colab": {
          "base_uri": "https://localhost:8080/"
        },
        "outputId": "b922acd7-9861-435e-b667-92f2546acbaa"
      },
      "source": [
        "!kaggle datasets download -d dinnymathew/usstockprices"
      ],
      "execution_count": null,
      "outputs": [
        {
          "output_type": "stream",
          "text": [
            "Downloading usstockprices.zip to /content\n",
            " 14% 5.00M/35.5M [00:00<00:00, 48.3MB/s]\n",
            "100% 35.5M/35.5M [00:00<00:00, 174MB/s] \n"
          ],
          "name": "stdout"
        }
      ]
    },
    {
      "cell_type": "code",
      "metadata": {
        "id": "ptCSjxkrs9Ol",
        "colab": {
          "base_uri": "https://localhost:8080/"
        },
        "outputId": "41d2a32f-001b-4be3-d106-623cd89cae04"
      },
      "source": [
        "!ls"
      ],
      "execution_count": null,
      "outputs": [
        {
          "output_type": "stream",
          "text": [
            "kaggle.json  sample_data  usstockprices.zip\n"
          ],
          "name": "stdout"
        }
      ]
    },
    {
      "cell_type": "code",
      "metadata": {
        "id": "4HDyH7xuuWoO",
        "colab": {
          "base_uri": "https://localhost:8080/"
        },
        "outputId": "63fb4c3e-8ea1-467c-f07a-417c621f7ca2"
      },
      "source": [
        "!mkdir data\n",
        "\n",
        "!unzip usstockprices -d data"
      ],
      "execution_count": null,
      "outputs": [
        {
          "output_type": "stream",
          "text": [
            "Archive:  usstockprices.zip\n",
            "  inflating: data/stocks_price_final.csv  \n"
          ],
          "name": "stdout"
        }
      ]
    },
    {
      "cell_type": "code",
      "metadata": {
        "id": "SKkKznovum2U",
        "colab": {
          "base_uri": "https://localhost:8080/"
        },
        "outputId": "2beef439-ffdc-4a1e-dd83-b357ee7cd724"
      },
      "source": [
        "!ls -l data/"
      ],
      "execution_count": null,
      "outputs": [
        {
          "output_type": "stream",
          "text": [
            "total 218952\n",
            "-rw-r--r-- 1 root root 224205096 Jul 24  2020 stocks_price_final.csv\n"
          ],
          "name": "stdout"
        }
      ]
    },
    {
      "cell_type": "markdown",
      "metadata": {
        "id": "QZMQsAItvF9I"
      },
      "source": [
        "## Import Modules"
      ]
    },
    {
      "cell_type": "code",
      "metadata": {
        "id": "z5elOd3_urwh"
      },
      "source": [
        "from pyspark.sql import functions as f\n",
        "\n",
        "import pandas as pd\n",
        "\n",
        "import seaborn as sns\n",
        "\n",
        "import matplotlib.pyplot as plt\n",
        "\n",
        "%matplotlib inline"
      ],
      "execution_count": null,
      "outputs": []
    },
    {
      "cell_type": "markdown",
      "metadata": {
        "id": "6nlaWsM6veh_"
      },
      "source": [
        "## Read Data"
      ]
    },
    {
      "cell_type": "code",
      "metadata": {
        "id": "dGT7jy3DDuLz"
      },
      "source": [
        "from pyspark.sql.types import *\n",
        "from pyspark.sql.functions import *\n",
        "\n",
        "data_schema = [\n",
        "               StructField('_c0', IntegerType(), True),\n",
        "               StructField('symbol', StringType(), True),\n",
        "               StructField('data', DateType(), True),\n",
        "               StructField('open', DoubleType(), True),\n",
        "               StructField('high', DoubleType(), True),\n",
        "               StructField('low', DoubleType(), True),\n",
        "               StructField('close', DoubleType(), True),\n",
        "               StructField('volume', IntegerType(), True),\n",
        "               StructField('adjusted', DoubleType(), True),\n",
        "               StructField('market.cap', StringType(), True),\n",
        "               StructField('sector', StringType(), True),\n",
        "               StructField('industry', StringType(), True),\n",
        "               StructField('exchange', StringType(), True),\n",
        "            ]\n",
        "\n",
        "final_struc = StructType(fields=data_schema)"
      ],
      "execution_count": null,
      "outputs": []
    },
    {
      "cell_type": "code",
      "metadata": {
        "id": "WAThgJoIvcKI"
      },
      "source": [
        "data = spark.read.csv(\n",
        "    'data/stocks_price_final.csv',\n",
        "    sep = ',',\n",
        "    header = True,\n",
        "    schema = final_struc\n",
        "    )"
      ],
      "execution_count": null,
      "outputs": []
    },
    {
      "cell_type": "code",
      "metadata": {
        "id": "NCFGHCsUyamR",
        "colab": {
          "base_uri": "https://localhost:8080/"
        },
        "outputId": "3bd624ac-f48f-4a8a-c2ed-012af3018406"
      },
      "source": [
        "data.printSchema()"
      ],
      "execution_count": null,
      "outputs": [
        {
          "output_type": "stream",
          "text": [
            "root\n",
            " |-- _c0: integer (nullable = true)\n",
            " |-- symbol: string (nullable = true)\n",
            " |-- data: date (nullable = true)\n",
            " |-- open: double (nullable = true)\n",
            " |-- high: double (nullable = true)\n",
            " |-- low: double (nullable = true)\n",
            " |-- close: double (nullable = true)\n",
            " |-- volume: integer (nullable = true)\n",
            " |-- adjusted: double (nullable = true)\n",
            " |-- market.cap: string (nullable = true)\n",
            " |-- sector: string (nullable = true)\n",
            " |-- industry: string (nullable = true)\n",
            " |-- exchange: string (nullable = true)\n",
            "\n"
          ],
          "name": "stdout"
        }
      ]
    },
    {
      "cell_type": "code",
      "metadata": {
        "id": "bUgocSgd_gqy",
        "colab": {
          "base_uri": "https://localhost:8080/"
        },
        "outputId": "7350b034-7d49-4329-ee4a-625f91b9f600"
      },
      "source": [
        "data.show(5)"
      ],
      "execution_count": null,
      "outputs": [
        {
          "output_type": "stream",
          "text": [
            "+---+------+----------+---------+---------+---------+---------+-------+---------+----------+-------------+--------------------+--------+\n",
            "|_c0|symbol|      data|     open|     high|      low|    close| volume| adjusted|market.cap|       sector|            industry|exchange|\n",
            "+---+------+----------+---------+---------+---------+---------+-------+---------+----------+-------------+--------------------+--------+\n",
            "|  1|   TXG|2019-09-12|     54.0|     58.0|     51.0|    52.75|7326300|    52.75|    $9.31B|Capital Goods|Biotechnology: La...|  NASDAQ|\n",
            "|  2|   TXG|2019-09-13|    52.75|   54.355|49.150002|    52.27|1025200|    52.27|    $9.31B|Capital Goods|Biotechnology: La...|  NASDAQ|\n",
            "|  3|   TXG|2019-09-16|52.450001|     56.0|52.009998|55.200001| 269900|55.200001|    $9.31B|Capital Goods|Biotechnology: La...|  NASDAQ|\n",
            "|  4|   TXG|2019-09-17|56.209999|60.900002|   55.423|56.779999| 602800|56.779999|    $9.31B|Capital Goods|Biotechnology: La...|  NASDAQ|\n",
            "|  5|   TXG|2019-09-18|56.849998|    62.27|55.650002|     62.0|1589600|     62.0|    $9.31B|Capital Goods|Biotechnology: La...|  NASDAQ|\n",
            "+---+------+----------+---------+---------+---------+---------+-------+---------+----------+-------------+--------------------+--------+\n",
            "only showing top 5 rows\n",
            "\n"
          ],
          "name": "stdout"
        }
      ]
    },
    {
      "cell_type": "code",
      "metadata": {
        "id": "us8Ks-FEHTYe"
      },
      "source": [
        "data = data.withColumnRenamed('market.cap', 'market_cap')"
      ],
      "execution_count": null,
      "outputs": []
    },
    {
      "cell_type": "markdown",
      "metadata": {
        "id": "a0aFk3S-mN50"
      },
      "source": [
        "## Inspect the data"
      ]
    },
    {
      "cell_type": "code",
      "metadata": {
        "id": "heGhvrD_mSZZ",
        "colab": {
          "base_uri": "https://localhost:8080/"
        },
        "outputId": "acae31e3-7cc2-4dff-a468-eac3297a77c6"
      },
      "source": [
        "# prints Schema of thte data\n",
        "data.schema"
      ],
      "execution_count": null,
      "outputs": [
        {
          "output_type": "execute_result",
          "data": {
            "text/plain": [
              "StructType(List(StructField(_c0,IntegerType,true),StructField(symbol,StringType,true),StructField(data,DateType,true),StructField(open,DoubleType,true),StructField(high,DoubleType,true),StructField(low,DoubleType,true),StructField(close,DoubleType,true),StructField(volume,IntegerType,true),StructField(adjusted,DoubleType,true),StructField(market_cap,StringType,true),StructField(sector,StringType,true),StructField(industry,StringType,true),StructField(exchange,StringType,true)))"
            ]
          },
          "metadata": {
            "tags": []
          },
          "execution_count": 14
        }
      ]
    },
    {
      "cell_type": "code",
      "metadata": {
        "id": "11e0YeMXmhUs",
        "colab": {
          "base_uri": "https://localhost:8080/"
        },
        "outputId": "864ea988-0ee9-453c-a45c-9ac2bb3fb996"
      },
      "source": [
        "data.dtypes"
      ],
      "execution_count": null,
      "outputs": [
        {
          "output_type": "execute_result",
          "data": {
            "text/plain": [
              "[('_c0', 'int'),\n",
              " ('symbol', 'string'),\n",
              " ('data', 'date'),\n",
              " ('open', 'double'),\n",
              " ('high', 'double'),\n",
              " ('low', 'double'),\n",
              " ('close', 'double'),\n",
              " ('volume', 'int'),\n",
              " ('adjusted', 'double'),\n",
              " ('market_cap', 'string'),\n",
              " ('sector', 'string'),\n",
              " ('industry', 'string'),\n",
              " ('exchange', 'string')]"
            ]
          },
          "metadata": {
            "tags": []
          },
          "execution_count": 15
        }
      ]
    },
    {
      "cell_type": "code",
      "metadata": {
        "id": "94m1hXVPprqU",
        "colab": {
          "base_uri": "https://localhost:8080/"
        },
        "outputId": "5dd7bfe6-eddb-405e-8454-a53adc5e3442"
      },
      "source": [
        "data.head(3)"
      ],
      "execution_count": null,
      "outputs": [
        {
          "output_type": "execute_result",
          "data": {
            "text/plain": [
              "[Row(_c0=1, symbol='TXG', data=datetime.date(2019, 9, 12), open=54.0, high=58.0, low=51.0, close=52.75, volume=7326300, adjusted=52.75, market_cap='$9.31B', sector='Capital Goods', industry='Biotechnology: Laboratory Analytical Instruments', exchange='NASDAQ'),\n",
              " Row(_c0=2, symbol='TXG', data=datetime.date(2019, 9, 13), open=52.75, high=54.355, low=49.150002, close=52.27, volume=1025200, adjusted=52.27, market_cap='$9.31B', sector='Capital Goods', industry='Biotechnology: Laboratory Analytical Instruments', exchange='NASDAQ'),\n",
              " Row(_c0=3, symbol='TXG', data=datetime.date(2019, 9, 16), open=52.450001, high=56.0, low=52.009998, close=55.200001, volume=269900, adjusted=55.200001, market_cap='$9.31B', sector='Capital Goods', industry='Biotechnology: Laboratory Analytical Instruments', exchange='NASDAQ')]"
            ]
          },
          "metadata": {
            "tags": []
          },
          "execution_count": 16
        }
      ]
    },
    {
      "cell_type": "code",
      "metadata": {
        "id": "IYZ46WYNHc01",
        "colab": {
          "base_uri": "https://localhost:8080/"
        },
        "outputId": "26bf34ef-6a1a-4edb-8b6f-943c0f927256"
      },
      "source": [
        "data.show(5)"
      ],
      "execution_count": null,
      "outputs": [
        {
          "output_type": "stream",
          "text": [
            "+---+------+----------+---------+---------+---------+---------+-------+---------+----------+-------------+--------------------+--------+\n",
            "|_c0|symbol|      data|     open|     high|      low|    close| volume| adjusted|market_cap|       sector|            industry|exchange|\n",
            "+---+------+----------+---------+---------+---------+---------+-------+---------+----------+-------------+--------------------+--------+\n",
            "|  1|   TXG|2019-09-12|     54.0|     58.0|     51.0|    52.75|7326300|    52.75|    $9.31B|Capital Goods|Biotechnology: La...|  NASDAQ|\n",
            "|  2|   TXG|2019-09-13|    52.75|   54.355|49.150002|    52.27|1025200|    52.27|    $9.31B|Capital Goods|Biotechnology: La...|  NASDAQ|\n",
            "|  3|   TXG|2019-09-16|52.450001|     56.0|52.009998|55.200001| 269900|55.200001|    $9.31B|Capital Goods|Biotechnology: La...|  NASDAQ|\n",
            "|  4|   TXG|2019-09-17|56.209999|60.900002|   55.423|56.779999| 602800|56.779999|    $9.31B|Capital Goods|Biotechnology: La...|  NASDAQ|\n",
            "|  5|   TXG|2019-09-18|56.849998|    62.27|55.650002|     62.0|1589600|     62.0|    $9.31B|Capital Goods|Biotechnology: La...|  NASDAQ|\n",
            "+---+------+----------+---------+---------+---------+---------+-------+---------+----------+-------------+--------------------+--------+\n",
            "only showing top 5 rows\n",
            "\n"
          ],
          "name": "stdout"
        }
      ]
    },
    {
      "cell_type": "markdown",
      "metadata": {
        "id": "wS90czt9mb4X"
      },
      "source": [
        "## Aggregation functions"
      ]
    },
    {
      "cell_type": "code",
      "metadata": {
        "colab": {
          "base_uri": "https://localhost:8080/"
        },
        "id": "hWE97LHIdaUa",
        "outputId": "d7bd813b-21f9-4286-9396-ba294c7c0525"
      },
      "source": [
        "## Find Average price of opening and closing stock\r\n",
        "for i in ['open', 'close']:\r\n",
        "  print(f'''Average {i} Stock Price: {\r\n",
        "    data.select(avg(i)).collect()[0][0]\r\n",
        "    }''')"
      ],
      "execution_count": null,
      "outputs": [
        {
          "output_type": "stream",
          "text": [
            "Average open Stock Price: 15070.071703341051\n",
            "Average close Stock Price: 15032.714854330707\n"
          ],
          "name": "stdout"
        }
      ]
    },
    {
      "cell_type": "code",
      "metadata": {
        "colab": {
          "base_uri": "https://localhost:8080/"
        },
        "id": "m8Fp4yvkdaXA",
        "outputId": "853d88a6-9a77-4502-e0a0-cdaa103ba86e"
      },
      "source": [
        "data.select(sum(\"volume\")).show(truncate=False)"
      ],
      "execution_count": null,
      "outputs": [
        {
          "output_type": "stream",
          "text": [
            "+-------------+\n",
            "|sum(volume)  |\n",
            "+-------------+\n",
            "|2411308303088|\n",
            "+-------------+\n",
            "\n"
          ],
          "name": "stdout"
        }
      ]
    },
    {
      "cell_type": "code",
      "metadata": {
        "colab": {
          "base_uri": "https://localhost:8080/"
        },
        "id": "nLgOcXrEdabw",
        "outputId": "5193a3ad-0296-44a5-cf3f-70a6a07d6e84"
      },
      "source": [
        "data.select(sumDistinct(\"volume\")).show(truncate=False)"
      ],
      "execution_count": null,
      "outputs": [
        {
          "output_type": "stream",
          "text": [
            "+--------------------+\n",
            "|sum(DISTINCT volume)|\n",
            "+--------------------+\n",
            "|1248299451208       |\n",
            "+--------------------+\n",
            "\n"
          ],
          "name": "stdout"
        }
      ]
    },
    {
      "cell_type": "code",
      "metadata": {
        "colab": {
          "base_uri": "https://localhost:8080/"
        },
        "id": "eBJBGUjudadq",
        "outputId": "331134b4-ac85-4965-9282-bc6ada6c1543"
      },
      "source": [
        "data.select(collect_set(\"exchange\")).show(truncate=False)"
      ],
      "execution_count": null,
      "outputs": [
        {
          "output_type": "stream",
          "text": [
            "+---------------------+\n",
            "|collect_set(exchange)|\n",
            "+---------------------+\n",
            "|[NYSE, NASDAQ]       |\n",
            "+---------------------+\n",
            "\n"
          ],
          "name": "stdout"
        }
      ]
    },
    {
      "cell_type": "code",
      "metadata": {
        "colab": {
          "base_uri": "https://localhost:8080/"
        },
        "id": "lVv9ch5Adaie",
        "outputId": "0bbfa780-3414-490b-b377-ae5ee440758f"
      },
      "source": [
        "data.select(count(\"sector\")).show(truncate=False)"
      ],
      "execution_count": null,
      "outputs": [
        {
          "output_type": "stream",
          "text": [
            "+-------------+\n",
            "|count(sector)|\n",
            "+-------------+\n",
            "|1729034      |\n",
            "+-------------+\n",
            "\n"
          ],
          "name": "stdout"
        }
      ]
    },
    {
      "cell_type": "code",
      "metadata": {
        "colab": {
          "base_uri": "https://localhost:8080/"
        },
        "id": "-3IbjJqxr_MW",
        "outputId": "49c5dac4-c7e2-4931-854b-b92b09a93213"
      },
      "source": [
        "data.select(countDistinct(\"sector\")).show(truncate=False)"
      ],
      "execution_count": null,
      "outputs": [
        {
          "output_type": "stream",
          "text": [
            "+----------------------+\n",
            "|count(DISTINCT sector)|\n",
            "+----------------------+\n",
            "|12                    |\n",
            "+----------------------+\n",
            "\n"
          ],
          "name": "stdout"
        }
      ]
    },
    {
      "cell_type": "code",
      "metadata": {
        "colab": {
          "base_uri": "https://localhost:8080/"
        },
        "id": "UcOQNJUPsW0U",
        "outputId": "7582a3fb-19d2-417f-9e52-36d3baf1d22d"
      },
      "source": [
        "data.select(kurtosis(\"volume\")).show(truncate=False)"
      ],
      "execution_count": null,
      "outputs": [
        {
          "output_type": "stream",
          "text": [
            "+------------------+\n",
            "|kurtosis(volume)  |\n",
            "+------------------+\n",
            "|1159.3465390444946|\n",
            "+------------------+\n",
            "\n"
          ],
          "name": "stdout"
        }
      ]
    },
    {
      "cell_type": "code",
      "metadata": {
        "colab": {
          "base_uri": "https://localhost:8080/"
        },
        "id": "tBz6YS6TwQL6",
        "outputId": "27523329-9398-4945-e227-c4e233f7d406"
      },
      "source": [
        "data.select(skewness(\"volume\")).show(truncate=False)\r\n"
      ],
      "execution_count": null,
      "outputs": [
        {
          "output_type": "stream",
          "text": [
            "+------------------+\n",
            "|skewness(volume)  |\n",
            "+------------------+\n",
            "|22.534251558551144|\n",
            "+------------------+\n",
            "\n"
          ],
          "name": "stdout"
        }
      ]
    },
    {
      "cell_type": "code",
      "metadata": {
        "colab": {
          "base_uri": "https://localhost:8080/"
        },
        "id": "u_Cui5B-wQOd",
        "outputId": "85d936e2-354e-491e-c470-fde25391711d"
      },
      "source": [
        "data.select(stddev(\"volume\")).show(truncate=False)\r\n"
      ],
      "execution_count": null,
      "outputs": [
        {
          "output_type": "stream",
          "text": [
            "+-------------------+\n",
            "|stddev_samp(volume)|\n",
            "+-------------------+\n",
            "|5187522.908169119  |\n",
            "+-------------------+\n",
            "\n"
          ],
          "name": "stdout"
        }
      ]
    },
    {
      "cell_type": "code",
      "metadata": {
        "colab": {
          "base_uri": "https://localhost:8080/"
        },
        "id": "Mej5BPTswQS4",
        "outputId": "4282adf0-6237-4274-d343-d39b6cef4d67"
      },
      "source": [
        "data.select(variance(\"volume\")).show(truncate=False)\r\n"
      ],
      "execution_count": null,
      "outputs": [
        {
          "output_type": "stream",
          "text": [
            "+--------------------+\n",
            "|var_samp(volume)    |\n",
            "+--------------------+\n",
            "|2.691039392277939E13|\n",
            "+--------------------+\n",
            "\n"
          ],
          "name": "stdout"
        }
      ]
    },
    {
      "cell_type": "markdown",
      "metadata": {
        "id": "QDGkNUSayhbJ"
      },
      "source": [
        "## Window Functions"
      ]
    },
    {
      "cell_type": "code",
      "metadata": {
        "id": "tgRAvPT8zxnO"
      },
      "source": [
        "from pyspark.sql.window import Window"
      ],
      "execution_count": null,
      "outputs": []
    },
    {
      "cell_type": "code",
      "metadata": {
        "colab": {
          "base_uri": "https://localhost:8080/"
        },
        "id": "R5MnJvjvwQU4",
        "outputId": "9350ae4c-8991-4719-ba5a-c472eab15a00"
      },
      "source": [
        "windowSpec  = Window.partitionBy(\"sector\").orderBy(\"industry\")\r\n",
        "\r\n",
        "data.withColumn(\"row_number\",row_number().over(windowSpec)) \\\r\n",
        "    .show(10, truncate=False)"
      ],
      "execution_count": null,
      "outputs": [
        {
          "output_type": "stream",
          "text": [
            "+----+------+----------+-----+-----+-----+-----+------+--------+----------+-------------+-----------------+--------+----------+\n",
            "|_c0 |symbol|data      |open |high |low  |close|volume|adjusted|market_cap|sector       |industry         |exchange|row_number|\n",
            "+----+------+----------+-----+-----+-----+-----+------+--------+----------+-------------+-----------------+--------+----------+\n",
            "|4253|KRKR  |2019-11-08|13.0 |14.5 |12.58|13.06|479100|13.06   |$130.48M  |Miscellaneous|Business Services|NASDAQ  |1         |\n",
            "|4254|KRKR  |2019-11-11|12.72|12.78|10.7 |10.74|226200|10.74   |$130.48M  |Miscellaneous|Business Services|NASDAQ  |2         |\n",
            "|4255|KRKR  |2019-11-12|10.33|10.96|8.91 |8.92 |186800|8.92    |$130.48M  |Miscellaneous|Business Services|NASDAQ  |3         |\n",
            "|4256|KRKR  |2019-11-13|8.88 |9.73 |8.72 |9.21 |117000|9.21    |$130.48M  |Miscellaneous|Business Services|NASDAQ  |4         |\n",
            "|4257|KRKR  |2019-11-14|9.04 |9.49 |9.04 |9.2  |59700 |9.2     |$130.48M  |Miscellaneous|Business Services|NASDAQ  |5         |\n",
            "|4258|KRKR  |2019-11-15|9.17 |10.0 |9.0  |9.98 |88900 |9.98    |$130.48M  |Miscellaneous|Business Services|NASDAQ  |6         |\n",
            "|4259|KRKR  |2019-11-18|9.85 |9.87 |9.41 |9.6  |21700 |9.6     |$130.48M  |Miscellaneous|Business Services|NASDAQ  |7         |\n",
            "|4260|KRKR  |2019-11-19|9.601|9.601|9.05 |9.35 |20500 |9.35    |$130.48M  |Miscellaneous|Business Services|NASDAQ  |8         |\n",
            "|4261|KRKR  |2019-11-20|9.22 |9.22 |9.02 |9.03 |22500 |9.03    |$130.48M  |Miscellaneous|Business Services|NASDAQ  |9         |\n",
            "|4262|KRKR  |2019-11-21|9.04 |9.05 |8.71 |8.73 |24300 |8.73    |$130.48M  |Miscellaneous|Business Services|NASDAQ  |10        |\n",
            "+----+------+----------+-----+-----+-----+-----+------+--------+----------+-------------+-----------------+--------+----------+\n",
            "only showing top 10 rows\n",
            "\n"
          ],
          "name": "stdout"
        }
      ]
    },
    {
      "cell_type": "code",
      "metadata": {
        "colab": {
          "base_uri": "https://localhost:8080/"
        },
        "id": "2RgNLzpqwQaS",
        "outputId": "c38988e5-fbad-489d-f87f-e8673f8d3bef"
      },
      "source": [
        "from pyspark.sql.functions import rank\r\n",
        "\r\n",
        "data.withColumn(\"rank\", rank().over(windowSpec)).show(5)"
      ],
      "execution_count": null,
      "outputs": [
        {
          "output_type": "stream",
          "text": [
            "+----+------+----------+-----+-----+-----+-----+------+--------+----------+-------------+-----------------+--------+----+\n",
            "| _c0|symbol|      data| open| high|  low|close|volume|adjusted|market_cap|       sector|         industry|exchange|rank|\n",
            "+----+------+----------+-----+-----+-----+-----+------+--------+----------+-------------+-----------------+--------+----+\n",
            "|4253|  KRKR|2019-11-08| 13.0| 14.5|12.58|13.06|479100|   13.06|  $130.48M|Miscellaneous|Business Services|  NASDAQ|   1|\n",
            "|4254|  KRKR|2019-11-11|12.72|12.78| 10.7|10.74|226200|   10.74|  $130.48M|Miscellaneous|Business Services|  NASDAQ|   1|\n",
            "|4255|  KRKR|2019-11-12|10.33|10.96| 8.91| 8.92|186800|    8.92|  $130.48M|Miscellaneous|Business Services|  NASDAQ|   1|\n",
            "|4256|  KRKR|2019-11-13| 8.88| 9.73| 8.72| 9.21|117000|    9.21|  $130.48M|Miscellaneous|Business Services|  NASDAQ|   1|\n",
            "|4257|  KRKR|2019-11-14| 9.04| 9.49| 9.04|  9.2| 59700|     9.2|  $130.48M|Miscellaneous|Business Services|  NASDAQ|   1|\n",
            "+----+------+----------+-----+-----+-----+-----+------+--------+----------+-------------+-----------------+--------+----+\n",
            "only showing top 5 rows\n",
            "\n"
          ],
          "name": "stdout"
        }
      ]
    },
    {
      "cell_type": "code",
      "metadata": {
        "colab": {
          "base_uri": "https://localhost:8080/"
        },
        "id": "erDPSN98wQc8",
        "outputId": "55520a79-33f1-4074-f295-e507ee52acbb"
      },
      "source": [
        "from pyspark.sql.functions import dense_rank\r\n",
        "\r\n",
        "data.withColumn(\"dense_rank\",dense_rank().over(windowSpec)).show(5)"
      ],
      "execution_count": null,
      "outputs": [
        {
          "output_type": "stream",
          "text": [
            "+----+------+----------+-----+-----+-----+-----+------+--------+----------+-------------+-----------------+--------+----------+\n",
            "| _c0|symbol|      data| open| high|  low|close|volume|adjusted|market_cap|       sector|         industry|exchange|dense_rank|\n",
            "+----+------+----------+-----+-----+-----+-----+------+--------+----------+-------------+-----------------+--------+----------+\n",
            "|4253|  KRKR|2019-11-08| 13.0| 14.5|12.58|13.06|479100|   13.06|  $130.48M|Miscellaneous|Business Services|  NASDAQ|         1|\n",
            "|4254|  KRKR|2019-11-11|12.72|12.78| 10.7|10.74|226200|   10.74|  $130.48M|Miscellaneous|Business Services|  NASDAQ|         1|\n",
            "|4255|  KRKR|2019-11-12|10.33|10.96| 8.91| 8.92|186800|    8.92|  $130.48M|Miscellaneous|Business Services|  NASDAQ|         1|\n",
            "|4256|  KRKR|2019-11-13| 8.88| 9.73| 8.72| 9.21|117000|    9.21|  $130.48M|Miscellaneous|Business Services|  NASDAQ|         1|\n",
            "|4257|  KRKR|2019-11-14| 9.04| 9.49| 9.04|  9.2| 59700|     9.2|  $130.48M|Miscellaneous|Business Services|  NASDAQ|         1|\n",
            "+----+------+----------+-----+-----+-----+-----+------+--------+----------+-------------+-----------------+--------+----------+\n",
            "only showing top 5 rows\n",
            "\n"
          ],
          "name": "stdout"
        }
      ]
    },
    {
      "cell_type": "code",
      "metadata": {
        "colab": {
          "base_uri": "https://localhost:8080/"
        },
        "id": "z-JO3_VVwQhr",
        "outputId": "28e8e53f-a80d-4226-c201-93144ca0305a"
      },
      "source": [
        "from pyspark.sql.functions import ntile\r\n",
        "\r\n",
        "data.withColumn(\"ntile\",ntile(4).over(windowSpec)).show(5)"
      ],
      "execution_count": null,
      "outputs": [
        {
          "output_type": "stream",
          "text": [
            "+----+------+----------+-----+-----+-----+-----+------+--------+----------+-------------+-----------------+--------+-----+\n",
            "| _c0|symbol|      data| open| high|  low|close|volume|adjusted|market_cap|       sector|         industry|exchange|ntile|\n",
            "+----+------+----------+-----+-----+-----+-----+------+--------+----------+-------------+-----------------+--------+-----+\n",
            "|4253|  KRKR|2019-11-08| 13.0| 14.5|12.58|13.06|479100|   13.06|  $130.48M|Miscellaneous|Business Services|  NASDAQ|    1|\n",
            "|4254|  KRKR|2019-11-11|12.72|12.78| 10.7|10.74|226200|   10.74|  $130.48M|Miscellaneous|Business Services|  NASDAQ|    1|\n",
            "|4255|  KRKR|2019-11-12|10.33|10.96| 8.91| 8.92|186800|    8.92|  $130.48M|Miscellaneous|Business Services|  NASDAQ|    1|\n",
            "|4256|  KRKR|2019-11-13| 8.88| 9.73| 8.72| 9.21|117000|    9.21|  $130.48M|Miscellaneous|Business Services|  NASDAQ|    1|\n",
            "|4257|  KRKR|2019-11-14| 9.04| 9.49| 9.04|  9.2| 59700|     9.2|  $130.48M|Miscellaneous|Business Services|  NASDAQ|    1|\n",
            "+----+------+----------+-----+-----+-----+-----+------+--------+----------+-------------+-----------------+--------+-----+\n",
            "only showing top 5 rows\n",
            "\n"
          ],
          "name": "stdout"
        }
      ]
    },
    {
      "cell_type": "code",
      "metadata": {
        "colab": {
          "base_uri": "https://localhost:8080/"
        },
        "id": "CW98qcijwQjy",
        "outputId": "d61f1d95-7fa9-4875-a4b1-db524bd55968"
      },
      "source": [
        "from pyspark.sql.functions import lag    \r\n",
        "\r\n",
        "data.withColumn(\"lag\",lag(\"adjusted\",2).over(windowSpec)).show(5)"
      ],
      "execution_count": null,
      "outputs": [
        {
          "output_type": "stream",
          "text": [
            "+----+------+----------+-----+-----+-----+-----+------+--------+----------+-------------+-----------------+--------+-----+\n",
            "| _c0|symbol|      data| open| high|  low|close|volume|adjusted|market_cap|       sector|         industry|exchange|  lag|\n",
            "+----+------+----------+-----+-----+-----+-----+------+--------+----------+-------------+-----------------+--------+-----+\n",
            "|4253|  KRKR|2019-11-08| 13.0| 14.5|12.58|13.06|479100|   13.06|  $130.48M|Miscellaneous|Business Services|  NASDAQ| null|\n",
            "|4254|  KRKR|2019-11-11|12.72|12.78| 10.7|10.74|226200|   10.74|  $130.48M|Miscellaneous|Business Services|  NASDAQ| null|\n",
            "|4255|  KRKR|2019-11-12|10.33|10.96| 8.91| 8.92|186800|    8.92|  $130.48M|Miscellaneous|Business Services|  NASDAQ|13.06|\n",
            "|4256|  KRKR|2019-11-13| 8.88| 9.73| 8.72| 9.21|117000|    9.21|  $130.48M|Miscellaneous|Business Services|  NASDAQ|10.74|\n",
            "|4257|  KRKR|2019-11-14| 9.04| 9.49| 9.04|  9.2| 59700|     9.2|  $130.48M|Miscellaneous|Business Services|  NASDAQ| 8.92|\n",
            "+----+------+----------+-----+-----+-----+-----+------+--------+----------+-------------+-----------------+--------+-----+\n",
            "only showing top 5 rows\n",
            "\n"
          ],
          "name": "stdout"
        }
      ]
    },
    {
      "cell_type": "code",
      "metadata": {
        "colab": {
          "base_uri": "https://localhost:8080/"
        },
        "id": "TEtIOndbwQoN",
        "outputId": "bfa78205-b2fd-4284-9cca-11b9a586cba8"
      },
      "source": [
        "from pyspark.sql.functions import lead    \r\n",
        "\r\n",
        "data.withColumn(\"lead\",lead(\"adjusted\",2).over(windowSpec)).show(5)"
      ],
      "execution_count": null,
      "outputs": [
        {
          "output_type": "stream",
          "text": [
            "+----+------+----------+-----+-----+-----+-----+------+--------+----------+-------------+-----------------+--------+----+\n",
            "| _c0|symbol|      data| open| high|  low|close|volume|adjusted|market_cap|       sector|         industry|exchange|lead|\n",
            "+----+------+----------+-----+-----+-----+-----+------+--------+----------+-------------+-----------------+--------+----+\n",
            "|4253|  KRKR|2019-11-08| 13.0| 14.5|12.58|13.06|479100|   13.06|  $130.48M|Miscellaneous|Business Services|  NASDAQ|8.92|\n",
            "|4254|  KRKR|2019-11-11|12.72|12.78| 10.7|10.74|226200|   10.74|  $130.48M|Miscellaneous|Business Services|  NASDAQ|9.21|\n",
            "|4255|  KRKR|2019-11-12|10.33|10.96| 8.91| 8.92|186800|    8.92|  $130.48M|Miscellaneous|Business Services|  NASDAQ| 9.2|\n",
            "|4256|  KRKR|2019-11-13| 8.88| 9.73| 8.72| 9.21|117000|    9.21|  $130.48M|Miscellaneous|Business Services|  NASDAQ|9.98|\n",
            "|4257|  KRKR|2019-11-14| 9.04| 9.49| 9.04|  9.2| 59700|     9.2|  $130.48M|Miscellaneous|Business Services|  NASDAQ| 9.6|\n",
            "+----+------+----------+-----+-----+-----+-----+------+--------+----------+-------------+-----------------+--------+----+\n",
            "only showing top 5 rows\n",
            "\n"
          ],
          "name": "stdout"
        }
      ]
    },
    {
      "cell_type": "markdown",
      "metadata": {
        "id": "RXj6EJ-967BA"
      },
      "source": [
        "\r\n",
        "\r\n",
        "---\r\n",
        "\r\n",
        "---\r\n",
        "\r\n",
        "\r\n",
        "\r\n"
      ]
    }
  ]
}